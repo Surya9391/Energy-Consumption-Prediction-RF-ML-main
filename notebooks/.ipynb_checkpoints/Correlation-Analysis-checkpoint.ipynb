{
 "cells": [
  {
   "cell_type": "code",
   "execution_count": null,
   "metadata": {
    "vscode": {
     "languageId": "plaintext"
    }
   },
   "outputs": [],
   "source": [
    "weather_features = ['temp', 'humidity', 'wind_speed', 'clouds_all']\n",
    "correlation_matrix = pd.DataFrame()\n",
    "\n",
    "for feature in weather_features:\n",
    "    correlation_matrix[feature] = [weather_data[feature].corr(energy_data['total_load_actual'])]\n",
    "\n",
    "plt.figure(figsize=(10, 6))\n",
    "sns.heatmap(correlation_matrix, annot=True, cmap='coolwarm')\n",
    "plt.title('Weather Features vs Energy Demand Correlation')\n",
    "plt.tight_layout()\n",
    "plt.show()"
   ]
  }
 ],
 "metadata": {
  "language_info": {
   "name": "python"
  }
 },
 "nbformat": 4,
 "nbformat_minor": 2
}
