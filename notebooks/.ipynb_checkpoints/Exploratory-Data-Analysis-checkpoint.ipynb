{
 "cells": [
  {
   "cell_type": "code",
   "execution_count": null,
   "metadata": {
    "vscode": {
     "languageId": "plaintext"
    }
   },
   "outputs": [],
   "source": [
    "import pandas as pd\n",
    "import numpy as np\n",
    "import matplotlib.pyplot as plt\n",
    "import seaborn as sns"
   ]
  },
  {
   "cell_type": "code",
   "execution_count": null,
   "metadata": {
    "vscode": {
     "languageId": "plaintext"
    }
   },
   "outputs": [],
   "source": [
    "df = pd.read_csv('../new datasets/Final_Energy_Prediction_Climate_Data_Corrected.csv', encoding='UTF-8-SIG')\n",
    "df['Date'] = pd.to_datetime(df['Date'])"
   ]
  },
  {
   "cell_type": "code",
   "execution_count": null,
   "metadata": {
    "vscode": {
     "languageId": "plaintext"
    }
   },
   "outputs": [],
   "source": [
    "plt.figure(figsize=(15, 6))\n",
    "daily_demand = df.groupby('Date')['Electricity Demand (MW)'].mean().reset_index()\n",
    "plt.plot(daily_demand['Date'], daily_demand['Electricity Demand (MW)'])\n",
    "plt.title('Daily Energy Demand Pattern')\n",
    "plt.xlabel('Date')\n",
    "plt.ylabel('Average Demand (MW)')\n",
    "plt.xticks(rotation=45)\n",
    "plt.tight_layout()\n",
    "plt.show()"
   ]
  },
  {
   "cell_type": "code",
   "execution_count": null,
   "metadata": {
    "vscode": {
     "languageId": "plaintext"
    }
   },
   "outputs": [],
   "source": [
    "plt.figure(figsize=(12, 6))\n",
    "sector_demand = df.groupby('Sector')['Electricity Demand (MW)'].mean()\n",
    "sector_demand.plot(kind='bar')\n",
    "plt.title('Average Energy Demand by Sector')\n",
    "plt.xlabel('Sector')\n",
    "plt.ylabel('Average Demand (MW)')\n",
    "plt.xticks(rotation=45)\n",
    "plt.tight_layout()\n",
    "plt.show()"
   ]
  },
  {
   "cell_type": "code",
   "execution_count": null,
   "metadata": {
    "vscode": {
     "languageId": "plaintext"
    }
   },
   "outputs": [],
   "source": [
    "plt.figure(figsize=(12, 6))\n",
    "source_distribution = df.groupby('Type of Energy Source')['Energy Used (MWh)'].mean()\n",
    "source_distribution.plot(kind='pie', autopct='%1.1f%%')\n",
    "plt.title('Energy Source Distribution')\n",
    "plt.axis('equal')\n",
    "plt.show()"
   ]
  },
  {
   "cell_type": "code",
   "execution_count": null,
   "metadata": {
    "vscode": {
     "languageId": "plaintext"
    }
   },
   "outputs": [],
   "source": [
    "plt.figure(figsize=(10, 6))\n",
    "plt.scatter(df['Temperature (°C)'], df['Electricity Demand (MW)'], alpha=0.5)\n",
    "plt.title('Temperature vs Energy Demand')\n",
    "plt.xlabel('Temperature (°C)')\n",
    "plt.ylabel('Electricity Demand (MW)')\n",
    "plt.tight_layout()\n",
    "plt.show()"
   ]
  },
  {
   "cell_type": "code",
   "execution_count": null,
   "metadata": {
    "vscode": {
     "languageId": "plaintext"
    }
   },
   "outputs": [],
   "source": [
    "plt.figure(figsize=(12, 6))\n",
    "df['month'] = df['Date'].dt.month\n",
    "df['year'] = df['Date'].dt.year\n",
    "monthly_demand = df.groupby(['year', 'month'])['Electricity Demand (MW)'].mean().reset_index()\n",
    "monthly_demand['date'] = pd.to_datetime(monthly_demand[['year', 'month']].assign(day=1))\n",
    "plt.plot(monthly_demand['date'], monthly_demand['Electricity Demand (MW)'])\n",
    "plt.title('Monthly Energy Demand Trends')\n",
    "plt.xlabel('Date')\n",
    "plt.ylabel('Average Demand (MW)')\n",
    "plt.xticks(rotation=45)\n",
    "plt.tight_layout()\n",
    "plt.show()"
   ]
  }
 ],
 "metadata": {
  "language_info": {
   "name": "python"
  }
 },
 "nbformat": 4,
 "nbformat_minor": 2
}
