{
 "cells": [
  {
   "cell_type": "code",
   "execution_count": 14,
   "metadata": {},
   "outputs": [],
   "source": [
    "import pandas as pd\n",
    "import numpy as np\n",
    "import matplotlib.pyplot as plt\n",
    "import seaborn as sns\n",
    "from sklearn.model_selection import train_test_split\n",
    "from sklearn.preprocessing import StandardScaler\n",
    "from sklearn.ensemble import RandomForestRegressor\n",
    "pd.set_option('display.max_columns', None)"
   ]
  },
  {
   "cell_type": "code",
   "execution_count": 15,
   "metadata": {},
   "outputs": [],
   "source": [
    "# Load the dataset\n",
    "df = pd.read_csv('../new datasets/Final_Energy_Prediction_Climate_Data_Corrected.csv', encoding='UTF-8-SIG')"
   ]
  },
  {
   "cell_type": "code",
   "execution_count": 16,
   "metadata": {},
   "outputs": [
    {
     "name": "stdout",
     "output_type": "stream",
     "text": [
      "Dataset Info:\n",
      "<class 'pandas.core.frame.DataFrame'>\n",
      "RangeIndex: 4392 entries, 0 to 4391\n",
      "Data columns (total 14 columns):\n",
      " #   Column                        Non-Null Count  Dtype  \n",
      "---  ------                        --------------  -----  \n",
      " 0   Date                          4392 non-null   object \n",
      " 1   City                          4392 non-null   object \n",
      " 2   Temperature (°C)              4392 non-null   float64\n",
      " 3   Humidity (%)                  4392 non-null   float64\n",
      " 4   Wind Speed (km/h)             4392 non-null   float64\n",
      " 5   Rainfall (mm)                 4392 non-null   float64\n",
      " 6   Solar Radiation (W/m²)        4392 non-null   float64\n",
      " 7   Electricity Demand (MW)       4392 non-null   float64\n",
      " 8   Sector                        4392 non-null   object \n",
      " 9   Energy Used (MWh)             4392 non-null   float64\n",
      " 10  Type of Energy Source         4392 non-null   object \n",
      " 11  Predicted Energy Demand (MW)  4392 non-null   float64\n",
      " 12  Predicted Energy Used (MWh)   4392 non-null   float64\n",
      " 13  Demand Fluctuation (%)        4392 non-null   float64\n",
      "dtypes: float64(10), object(4)\n",
      "memory usage: 480.5+ KB\n",
      "None\n"
     ]
    }
   ],
   "source": [
    "print(\"Dataset Info:\")\n",
    "print(df.info())"
   ]
  },
  {
   "cell_type": "code",
   "execution_count": 17,
   "metadata": {},
   "outputs": [
    {
     "name": "stdout",
     "output_type": "stream",
     "text": [
      "\n",
      "First few rows of the dataset:\n",
      "         Date         City  Temperature (°C)  Humidity (%)  Wind Speed (km/h)  \\\n",
      "0  2024-01-01     Kakinada         29.869022     83.275001          15.979909   \n",
      "1  2024-01-01     Kakinada         25.755087     80.316165          14.016725   \n",
      "2  2024-01-01     Kakinada         35.821754     57.431869           7.727375   \n",
      "3  2024-01-01  Samarlakota         30.615285     60.193020          14.177793   \n",
      "4  2024-01-01  Samarlakota         30.928910     77.481159           7.995107   \n",
      "\n",
      "   Rainfall (mm)  Solar Radiation (W/m²)  Electricity Demand (MW)  \\\n",
      "0      11.973170              362.407456                88.998630   \n",
      "1      14.161452              308.233798               292.477463   \n",
      "2       3.668090              421.696897               181.189108   \n",
      "3       2.789877              416.857859               141.590461   \n",
      "4      10.284689              536.965828                61.612603   \n",
      "\n",
      "        Sector  Energy Used (MWh) Type of Energy Source  \\\n",
      "0  Residential          85.102186                 Solar   \n",
      "1   Commercial         279.672524                  Wind   \n",
      "2   Industrial         173.256478                 Solar   \n",
      "3  Residential         135.391497           Fossil Fuel   \n",
      "4   Commercial          58.915145                 Solar   \n",
      "\n",
      "   Predicted Energy Demand (MW)  Predicted Energy Used (MWh)  \\\n",
      "0                     88.272358                    89.183833   \n",
      "1                    290.090705                   293.086097   \n",
      "2                    179.710517                   181.566155   \n",
      "3                    140.435014                   141.885105   \n",
      "4                     61.109815                    61.740817   \n",
      "\n",
      "   Demand Fluctuation (%)  \n",
      "0               -0.816048  \n",
      "1               -0.816048  \n",
      "2               -0.816048  \n",
      "3               -0.816048  \n",
      "4               -0.816048  \n"
     ]
    }
   ],
   "source": [
    "print(\"\\nFirst few rows of the dataset:\")\n",
    "print(df.head())"
   ]
  },
  {
   "cell_type": "code",
   "execution_count": 18,
   "metadata": {},
   "outputs": [
    {
     "name": "stdout",
     "output_type": "stream",
     "text": [
      "\n",
      "Statistical Summary:\n",
      "       Temperature (°C)  Humidity (%)  Wind Speed (km/h)  Rainfall (mm)  \\\n",
      "count       4392.000000   4392.000000        4392.000000    4392.000000   \n",
      "mean          31.540745     67.501445          12.452752      10.026589   \n",
      "std            3.721185     10.176406           4.292923       5.745801   \n",
      "min           25.001751     50.001849           5.004606       0.000962   \n",
      "25%           28.345285     58.722426           8.746987       5.045577   \n",
      "50%           31.567883     67.428578          12.429982       9.960082   \n",
      "75%           34.750836     76.524615          16.078979      15.026481   \n",
      "max           37.999023     84.996534          19.988109      19.994353   \n",
      "\n",
      "       Solar Radiation (W/m²)  Electricity Demand (MW)  Energy Used (MWh)  \\\n",
      "count             4392.000000              4392.000000        4392.000000   \n",
      "mean               501.743711               174.991912         167.330602   \n",
      "std                115.278409                72.742894          69.558141   \n",
      "min                300.004654                50.007680          47.818296   \n",
      "25%                402.604783               111.929990         107.029590   \n",
      "50%                502.088891               176.099192         168.389403   \n",
      "75%                601.031409               237.795190         227.384293   \n",
      "max                699.740120               299.918301         286.787596   \n",
      "\n",
      "       Predicted Energy Demand (MW)  Predicted Energy Used (MWh)  \\\n",
      "count                   4392.000000                  4392.000000   \n",
      "mean                     173.563894                   175.356064   \n",
      "std                       72.149277                    72.894269   \n",
      "min                       49.599593                    50.111744   \n",
      "25%                      111.016588                   112.162912   \n",
      "50%                      174.662137                   176.465647   \n",
      "75%                      235.854667                   238.290033   \n",
      "max                      297.470823                   300.542420   \n",
      "\n",
      "       Demand Fluctuation (%)  \n",
      "count            4.392000e+03  \n",
      "mean            -8.160484e-01  \n",
      "std              4.687617e-15  \n",
      "min             -8.160484e-01  \n",
      "25%             -8.160484e-01  \n",
      "50%             -8.160484e-01  \n",
      "75%             -8.160484e-01  \n",
      "max             -8.160484e-01  \n"
     ]
    }
   ],
   "source": [
    "print(\"\\nStatistical Summary:\")\n",
    "print(df.describe())"
   ]
  },
  {
   "cell_type": "code",
   "execution_count": 19,
   "metadata": {},
   "outputs": [
    {
     "name": "stdout",
     "output_type": "stream",
     "text": [
      "\n",
      "Missing values in the dataset:\n",
      "Date                            0\n",
      "City                            0\n",
      "Temperature (°C)                0\n",
      "Humidity (%)                    0\n",
      "Wind Speed (km/h)               0\n",
      "Rainfall (mm)                   0\n",
      "Solar Radiation (W/m²)          0\n",
      "Electricity Demand (MW)         0\n",
      "Sector                          0\n",
      "Energy Used (MWh)               0\n",
      "Type of Energy Source           0\n",
      "Predicted Energy Demand (MW)    0\n",
      "Predicted Energy Used (MWh)     0\n",
      "Demand Fluctuation (%)          0\n",
      "dtype: int64\n"
     ]
    }
   ],
   "source": [
    "print(\"\\nMissing values in the dataset:\")\n",
    "print(df.isnull().sum())"
   ]
  },
  {
   "cell_type": "code",
   "execution_count": 20,
   "metadata": {},
   "outputs": [],
   "source": [
    "df.to_pickle('../artifacts/processed_data.pkl')"
   ]
  },
  {
   "cell_type": "code",
   "execution_count": null,
   "metadata": {},
   "outputs": [],
   "source": []
  }
 ],
 "metadata": {
  "kernelspec": {
   "display_name": "Python 3 (ipykernel)",
   "language": "python",
   "name": "python3"
  },
  "language_info": {
   "codemirror_mode": {
    "name": "ipython",
    "version": 3
   },
   "file_extension": ".py",
   "mimetype": "text/x-python",
   "name": "python",
   "nbconvert_exporter": "python",
   "pygments_lexer": "ipython3",
   "version": "3.11.9"
  }
 },
 "nbformat": 4,
 "nbformat_minor": 4
}
