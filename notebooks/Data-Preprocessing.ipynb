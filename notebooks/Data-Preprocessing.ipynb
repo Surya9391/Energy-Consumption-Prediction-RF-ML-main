{
 "cells": [
  {
   "cell_type": "code",
   "execution_count": 48,
   "metadata": {},
   "outputs": [],
   "source": [
    "import pandas as pd\n",
    "import numpy as np\n",
    "from sklearn.model_selection import train_test_split\n",
    "from sklearn.preprocessing import StandardScaler\n",
    "import joblib"
   ]
  },
  {
   "cell_type": "code",
   "execution_count": 49,
   "metadata": {},
   "outputs": [],
   "source": [
    "df = pd.read_pickle('../artifacts/processed_data.pkl')"
   ]
  },
  {
   "cell_type": "code",
   "execution_count": 50,
   "metadata": {},
   "outputs": [],
   "source": [
    "df = df.fillna(0)"
   ]
  },
  {
   "cell_type": "code",
   "execution_count": 51,
   "metadata": {},
   "outputs": [],
   "source": [
    "df['Date'] = pd.to_datetime(df['Date'])\n",
    "df['hour'] = df['Date'].dt.hour\n",
    "df['day'] = df['Date'].dt.day\n",
    "df['month'] = df['Date'].dt.month\n",
    "df['year'] = df['Date'].dt.year\n",
    "df['day_of_week'] = df['Date'].dt.dayofweek"
   ]
  },
  {
   "cell_type": "code",
   "execution_count": 52,
   "metadata": {},
   "outputs": [
    {
     "name": "stdout",
     "output_type": "stream",
     "text": [
      "Dataset Info:\n",
      "<class 'pandas.core.frame.DataFrame'>\n",
      "RangeIndex: 4392 entries, 0 to 4391\n",
      "Data columns (total 19 columns):\n",
      " #   Column                        Non-Null Count  Dtype         \n",
      "---  ------                        --------------  -----         \n",
      " 0   Date                          4392 non-null   datetime64[ns]\n",
      " 1   City                          4392 non-null   object        \n",
      " 2   Temperature (°C)              4392 non-null   float64       \n",
      " 3   Humidity (%)                  4392 non-null   float64       \n",
      " 4   Wind Speed (km/h)             4392 non-null   float64       \n",
      " 5   Rainfall (mm)                 4392 non-null   float64       \n",
      " 6   Solar Radiation (W/m²)        4392 non-null   float64       \n",
      " 7   Electricity Demand (MW)       4392 non-null   float64       \n",
      " 8   Sector                        4392 non-null   object        \n",
      " 9   Energy Used (MWh)             4392 non-null   float64       \n",
      " 10  Type of Energy Source         4392 non-null   object        \n",
      " 11  Predicted Energy Demand (MW)  4392 non-null   float64       \n",
      " 12  Predicted Energy Used (MWh)   4392 non-null   float64       \n",
      " 13  Demand Fluctuation (%)        4392 non-null   float64       \n",
      " 14  hour                          4392 non-null   int32         \n",
      " 15  day                           4392 non-null   int32         \n",
      " 16  month                         4392 non-null   int32         \n",
      " 17  year                          4392 non-null   int32         \n",
      " 18  day_of_week                   4392 non-null   int32         \n",
      "dtypes: datetime64[ns](1), float64(10), int32(5), object(3)\n",
      "memory usage: 566.3+ KB\n",
      "None\n"
     ]
    }
   ],
   "source": [
    "print(\"Dataset Info:\")\n",
    "print(df.info())"
   ]
  },
  {
   "cell_type": "code",
   "execution_count": 53,
   "metadata": {},
   "outputs": [
    {
     "name": "stdout",
     "output_type": "stream",
     "text": [
    "\n",
      "First few rows of the dataset:\n",
      "        Date         City  Temperature (°C)  Humidity (%)  Wind Speed (km/h)  \\\n",
      "0 2024-01-01     Kakinada         29.869022     83.275001          15.979909   \n",
      "1 2024-01-01     Kakinada         25.755087     80.316165          14.016725   \n",
      "2 2024-01-01     Kakinada         35.821754     57.431869           7.727375   \n",
      "3 2024-01-01  Samarlakota         30.615285     60.193020          14.177793   \n",
      "4 2024-01-01  Samarlakota         30.928910     77.481159           7.995107   \n",
    "\n",
      "   Rainfall (mm)  Solar Radiation (W/m²)  Electricity Demand (MW)  \\\n",
      "0      11.973170              362.407456                88.998630   \n",
      "1      14.161452              308.233798               292.477463   \n",
      "2       3.668090              421.696897               181.189108   \n",
      "3       2.789877              416.857859               141.590461   \n",
      "4      10.284689              536.965828                61.612603   \n",
    "\n",
      "        Sector  Energy Used (MWh) Type of Energy Source  \\\n",
      "0  Residential          85.102186                 Solar   \n",
      "1   Commercial         279.672524                  Wind   \n",
      "2   Industrial         173.256478                 Solar   \n",
      "3  Residential         135.391497           Fossil Fuel   \n",
      "4   Commercial          58.915145                 Solar   \n",
    "\n",
      "   Predicted Energy Demand (MW)  Predicted Energy Used (MWh)  \\\n",
      "0                     88.272358                    89.183833   \n",
      "1                    290.090705                   293.086097   \n",
      "2                    179.710517                   181.566155   \n",
      "3                    140.435014                   141.885105   \n",
      "4                     61.109815                    61.740817   \n",
       "\n",
      "   Demand Fluctuation (%)  hour  day  month  year  day_of_week  \n",
      "0               -0.816048     0    1      1  2024            0  \n",
      "1               -0.816048     0    1      1  2024            0  \n",
      "2               -0.816048     0    1      1  2024            0  \n",
      "3               -0.816048     0    1      1  2024            0  \n",
      "4               -0.816048     0    1      1  2024            0  \n"
     ]
    }
   ],
   "source": [
    "print(\"\\nFirst few rows of the dataset:\")\n",
    "print(df.head())"
   ]
  },
  {
   "cell_type": "code",
   "execution_count": 54,
   "metadata": {},
   "outputs": [
    {
     "name": "stdout",
     "output_type": "stream",
     "text": [
      "\n",
      "Missing values in the dataset:\n",
      "Date                            0\n",
      "City                            0\n",
      "Temperature (°C)                0\n",
      "Humidity (%)                    0\n",
      "Wind Speed (km/h)               0\n",
      "Rainfall (mm)                   0\n",
      "Solar Radiation (W/m²)          0\n",
      "Electricity Demand (MW)         0\n",
      "Sector                          0\n",
      "Energy Used (MWh)               0\n",
      "Type of Energy Source           0\n",
      "Predicted Energy Demand (MW)    0\n",
      "Predicted Energy Used (MWh)     0\n",
      "Demand Fluctuation (%)          0\n",
      "hour                            0\n",
      "day                             0\n",
      "month                           0\n",
      "year                            0\n",
      "day_of_week                     0\n",
      "dtype: int64\n"
     ]
    }
   ],
   "source": [
    "print(\"\\nMissing values in the dataset:\")\n",
    "print(df.isnull().sum())"
   ]
  },
  {
   "cell_type": "code",
   "execution_count": 55,
   "metadata": {},
   "outputs": [],
   "source": [
    "features = ['Temperature (°C)', 'Humidity (%)', 'Wind Speed (km/h)', \n",
    "           'Rainfall (mm)', 'Solar Radiation (W/m²)', \n",
    "           'hour', 'day', 'month', 'year', 'day_of_week']"
   ]
  },
  {
   "cell_type": "code",
   "execution_count": 56,
   "metadata": {},
   "outputs": [],
   "source": [
    "df = pd.get_dummies(df, columns=['City', 'Sector', 'Type of Energy Source'])"
   ]
  },
  {
   "cell_type": "code",
   "execution_count": 57,
   "metadata": {},
   "outputs": [],
   "source": [
    "X = df[features + [col for col in df.columns if col.startswith(('City_', 'Sector_', 'Type_'))]]\n",
    "y = df['Electricity Demand (MW)']"
   ]
  },
  {
   "cell_type": "code",
   "execution_count": 58,
   "metadata": {},
   "outputs": [],
   "source": [
    "X_train, X_test, y_train, y_test = train_test_split(X, y, test_size=0.2, random_state=42)\n"
   ]
  },
  {
   "cell_type": "code",
   "execution_count": 59,
   "metadata": {},
   "outputs": [],
   "source": [
    "scaler = StandardScaler()\n",
    "X_train_scaled = scaler.fit_transform(X_train)\n",
    "X_test_scaled = scaler.transform(X_test)"
   ]
  },
  {
   "cell_type": "code",
   "execution_count": 60,
   "metadata": {},
   "outputs": [],
   "source": [
    "joblib.dump(scaler, '../artifacts/scaler.joblib')\n",
    "np.save('../artifacts/X_train_scaled.npy', X_train_scaled)\n",
    "np.save('../artifacts/X_test_scaled.npy', X_test_scaled)\n",
    "np.save('../artifacts/y_train.npy', y_train)\n",
    "np.save('../artifacts/y_test.npy', y_test)\n",
    "X.to_pickle('../artifacts/feature_columns.pkl')"
   ]
  },
  {
   "cell_type": "code",
   "execution_count": null,
   "metadata": {},
   "outputs": [],
   "source": []
  }
 ],
 "metadata": {
  "kernelspec": {
   "display_name": "Python 3 (ipykernel)",
   "language": "python",
   "name": "python3"
  },
  "language_info": {
   "codemirror_mode": {
    "name": "ipython",
    "version": 3
   },
   "file_extension": ".py",
   "mimetype": "text/x-python",
   "name": "python",
   "nbconvert_exporter": "python",
   "pygments_lexer": "ipython3",
   "version": "3.11.9"
  }
 },
 "nbformat": 4,
 "nbformat_minor": 4
}
